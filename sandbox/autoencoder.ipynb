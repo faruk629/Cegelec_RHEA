{
 "cells": [
  {
   "cell_type": "code",
   "execution_count": 1,
   "metadata": {},
   "outputs": [
    {
     "name": "stderr",
     "output_type": "stream",
     "text": [
      "2024-03-07 12:44:47.821346: E external/local_xla/xla/stream_executor/cuda/cuda_dnn.cc:9261] Unable to register cuDNN factory: Attempting to register factory for plugin cuDNN when one has already been registered\n",
      "2024-03-07 12:44:47.821410: E external/local_xla/xla/stream_executor/cuda/cuda_fft.cc:607] Unable to register cuFFT factory: Attempting to register factory for plugin cuFFT when one has already been registered\n",
      "2024-03-07 12:44:47.959448: E external/local_xla/xla/stream_executor/cuda/cuda_blas.cc:1515] Unable to register cuBLAS factory: Attempting to register factory for plugin cuBLAS when one has already been registered\n",
      "2024-03-07 12:44:48.237008: I tensorflow/core/platform/cpu_feature_guard.cc:182] This TensorFlow binary is optimized to use available CPU instructions in performance-critical operations.\n",
      "To enable the following instructions: AVX2 FMA, in other operations, rebuild TensorFlow with the appropriate compiler flags.\n",
      "2024-03-07 12:44:50.800917: W tensorflow/compiler/tf2tensorrt/utils/py_utils.cc:38] TF-TRT Warning: Could not find TensorRT\n"
     ]
    }
   ],
   "source": [
    "import sys\n",
    "sys.path.append('../src')\n",
    "import preprocessing\n",
    "import data_augmentation_1D as data_aug\n",
    "import tensorflow as tf\n",
    "from keras.layers import Conv1D, BatchNormalization,MaxPooling1D,UpSampling1D,Input\n",
    "import keras \n",
    "from keras.optimizers import Adam\n",
    "import matplotlib.pyplot as plt \n",
    "import numpy as np\n",
    "import polars as pl\n",
    "from keras.utils import to_categorical\n"
   ]
  },
  {
   "cell_type": "code",
   "execution_count": 2,
   "metadata": {},
   "outputs": [
    {
     "name": "stderr",
     "output_type": "stream",
     "text": [
      "2024-03-07 12:45:16.522699: I external/local_xla/xla/stream_executor/cuda/cuda_executor.cc:887] could not open file to read NUMA node: /sys/bus/pci/devices/0000:01:00.0/numa_node\n",
      "Your kernel may have been built without NUMA support.\n",
      "2024-03-07 12:45:16.926441: I external/local_xla/xla/stream_executor/cuda/cuda_executor.cc:887] could not open file to read NUMA node: /sys/bus/pci/devices/0000:01:00.0/numa_node\n",
      "Your kernel may have been built without NUMA support.\n",
      "2024-03-07 12:45:16.926538: I external/local_xla/xla/stream_executor/cuda/cuda_executor.cc:887] could not open file to read NUMA node: /sys/bus/pci/devices/0000:01:00.0/numa_node\n",
      "Your kernel may have been built without NUMA support.\n",
      "2024-03-07 12:45:16.930979: I external/local_xla/xla/stream_executor/cuda/cuda_executor.cc:887] could not open file to read NUMA node: /sys/bus/pci/devices/0000:01:00.0/numa_node\n",
      "Your kernel may have been built without NUMA support.\n",
      "2024-03-07 12:45:16.931081: I external/local_xla/xla/stream_executor/cuda/cuda_executor.cc:887] could not open file to read NUMA node: /sys/bus/pci/devices/0000:01:00.0/numa_node\n",
      "Your kernel may have been built without NUMA support.\n",
      "2024-03-07 12:45:16.931131: I external/local_xla/xla/stream_executor/cuda/cuda_executor.cc:887] could not open file to read NUMA node: /sys/bus/pci/devices/0000:01:00.0/numa_node\n",
      "Your kernel may have been built without NUMA support.\n",
      "2024-03-07 12:45:17.095359: I external/local_xla/xla/stream_executor/cuda/cuda_executor.cc:887] could not open file to read NUMA node: /sys/bus/pci/devices/0000:01:00.0/numa_node\n",
      "Your kernel may have been built without NUMA support.\n",
      "2024-03-07 12:45:17.095422: I external/local_xla/xla/stream_executor/cuda/cuda_executor.cc:887] could not open file to read NUMA node: /sys/bus/pci/devices/0000:01:00.0/numa_node\n",
      "Your kernel may have been built without NUMA support.\n",
      "2024-03-07 12:45:17.095431: I tensorflow/core/common_runtime/gpu/gpu_device.cc:2022] Could not identify NUMA node of platform GPU id 0, defaulting to 0.  Your kernel may not have been built with NUMA support.\n",
      "2024-03-07 12:45:17.095474: I external/local_xla/xla/stream_executor/cuda/cuda_executor.cc:887] could not open file to read NUMA node: /sys/bus/pci/devices/0000:01:00.0/numa_node\n",
      "Your kernel may have been built without NUMA support.\n",
      "2024-03-07 12:45:17.095491: I tensorflow/core/common_runtime/gpu/gpu_device.cc:1929] Created device /job:localhost/replica:0/task:0/device:GPU:0 with 4701 MB memory:  -> device: 0, name: NVIDIA GeForce GTX 1060, pci bus id: 0000:01:00.0, compute capability: 6.1\n"
     ]
    },
    {
     "name": "stdout",
     "output_type": "stream",
     "text": [
      "x shape : (2220, 437, 1)\n",
      "x_test shape : (400, 437, 1)\n"
     ]
    }
   ],
   "source": [
    "# Définir le chemin racine du dataset\n",
    "dataset_root = \"/mnt/c/Users/onerf/Documents/UMons/Master2/RHEA/src/db/\"\n",
    "\n",
    "# Charger les profils depuis les dossiers spécifiés dans le dataset\n",
    "train_data  = preprocessing.sleepers_dataset_from_directory(dataset_root + \"sleepers_db/\")\n",
    "test_data = preprocessing.sleepers_dataset_from_directory(dataset_root + \"test/\")\n",
    "\n",
    "# Créer un dictionnaire pour mapper les identifiants uniques des cibles en entiers\n",
    "id2int = {v: ix for ix, v in enumerate(np.unique(train_data.target))}\n",
    "int2id = {ix: v for ix, v in enumerate(np.unique(train_data.target))}\n",
    "\n",
    "# Convertir les cibles en valeurs entières pour faciliter leur manipulation par des algorithmes d'apprentissage automatique\n",
    "train_data.target = [id2int[val] for val in train_data.target]\n",
    "test_data.target = [id2int[val] for val in test_data.target]\n",
    "\n",
    "train_data.target = to_categorical(train_data.target)\n",
    "test_data.target = to_categorical(test_data.target)\n",
    "\n",
    "x, y = train_data.data, train_data.target\n",
    "# Redimensionnement des données pour ajouter une dimension supplémentaire,\n",
    "x = x.reshape(x.shape[0], x.shape[1], 1)\n",
    "print(f'x shape : {x.shape}')\n",
    "\n",
    "x_test, y_test = test_data.data, test_data.target\n",
    "x_test = x_test.reshape(x_test.shape[0], x_test.shape[1], 1)\n",
    "\n",
    "print(f'x_test shape : {x_test.shape}')\n"
   ]
  },
  {
   "cell_type": "code",
   "execution_count": 3,
   "metadata": {},
   "outputs": [],
   "source": [
    "x, y = data_aug.augment(x, y)"
   ]
  },
  {
   "cell_type": "code",
   "execution_count": 4,
   "metadata": {},
   "outputs": [],
   "source": [
    "def encoder(input_size):\n",
    "    #encoder\n",
    "    #input = 28 x 28 x 1 (wide and thin)\n",
    "    conv1 = Conv1D(32, 3, activation='relu', padding='same')(input_size) \n",
    "    conv1 = BatchNormalization()(conv1)\n",
    "    conv1 = Conv1D(32, 3, activation='relu', padding='same')(conv1)\n",
    "    conv1 = BatchNormalization()(conv1)\n",
    "    pool1 = MaxPooling1D(pool_size=2)(conv1) \n",
    "    conv2 = Conv1D(64, 3, activation='relu', padding='same')(pool1) \n",
    "    conv2 = BatchNormalization()(conv2)\n",
    "    conv2 = Conv1D(64, 3, activation='relu', padding='same')(conv2)\n",
    "    conv2 = BatchNormalization()(conv2)\n",
    "    pool2 = MaxPooling1D(pool_size=2)(conv2) \n",
    "    conv3 = Conv1D(128, 3, activation='relu', padding='same')(pool2) \n",
    "    conv3 = BatchNormalization()(conv3)\n",
    "    conv3 = Conv1D(128, 3, activation='relu', padding='same')(conv3)\n",
    "    conv3 = BatchNormalization()(conv3)\n",
    "    conv4 = Conv1D(256, 3, activation='relu', padding='same')(conv3) \n",
    "    conv4 = BatchNormalization()(conv4)\n",
    "    conv4 = Conv1D(256, 3, activation='relu', padding='same')(conv4)\n",
    "    conv4 = BatchNormalization()(conv4)\n",
    "    return conv4\n",
    "\n",
    "def decoder(conv4):    \n",
    "    #decoder\n",
    "    conv5 = Conv1D(128, 3, activation='relu', padding='same')(conv4) \n",
    "    conv5 = BatchNormalization()(conv5)\n",
    "    conv5 = Conv1D(128, 3, activation='relu', padding='same')(conv5)\n",
    "    conv5 = BatchNormalization()(conv5)\n",
    "    conv6 = Conv1D(64, 3, activation='relu', padding='same')(conv5) \n",
    "    conv6 = BatchNormalization()(conv6)\n",
    "    conv6 = Conv1D(64, 3, activation='relu', padding='same')(conv6)\n",
    "    conv6 = BatchNormalization()(conv6)\n",
    "    up1 = UpSampling1D(2)(conv6) \n",
    "    conv7 = Conv1D(32, 3, activation='relu', padding='same')(up1) \n",
    "    conv7 = BatchNormalization()(conv7)\n",
    "    conv7 = Conv1D(32, 3, activation='relu', padding='same')(conv7)\n",
    "    conv7 = BatchNormalization()(conv7)\n",
    "    up2 = UpSampling1D(2)(conv7) \n",
    "    decoded = Conv1D(1, 3, activation='sigmoid', padding='same')(up2) \n",
    "    return decoded"
   ]
  },
  {
   "cell_type": "code",
   "execution_count": 5,
   "metadata": {},
   "outputs": [],
   "source": [
    "batch_size = 128\n",
    "epochs = 100\n",
    "input_size = Input(shape = (437,1))\n",
    "num_classes = 3"
   ]
  },
  {
   "cell_type": "code",
   "execution_count": 6,
   "metadata": {},
   "outputs": [],
   "source": [
    "autoencoder = keras.Model(input_size, decoder(encoder(input_size)))\n",
    "autoencoder.compile(loss='mean_squared_error', optimizer = Adam())"
   ]
  },
  {
   "cell_type": "code",
   "execution_count": 7,
   "metadata": {},
   "outputs": [
    {
     "name": "stdout",
     "output_type": "stream",
     "text": [
      "Model: \"model\"\n",
      "_________________________________________________________________\n",
      " Layer (type)                Output Shape              Param #   \n",
      "=================================================================\n",
      " input_1 (InputLayer)        [(None, 437, 1)]          0         \n",
      "                                                                 \n",
      " conv1d (Conv1D)             (None, 437, 32)           128       \n",
      "                                                                 \n",
      " batch_normalization (Batch  (None, 437, 32)           128       \n",
      " Normalization)                                                  \n",
      "                                                                 \n",
      " conv1d_1 (Conv1D)           (None, 437, 32)           3104      \n",
      "                                                                 \n",
      " batch_normalization_1 (Bat  (None, 437, 32)           128       \n",
      " chNormalization)                                                \n",
      "                                                                 \n",
      " max_pooling1d (MaxPooling1  (None, 218, 32)           0         \n",
      " D)                                                              \n",
      "                                                                 \n",
      " conv1d_2 (Conv1D)           (None, 218, 64)           6208      \n",
      "                                                                 \n",
      " batch_normalization_2 (Bat  (None, 218, 64)           256       \n",
      " chNormalization)                                                \n",
      "                                                                 \n",
      " conv1d_3 (Conv1D)           (None, 218, 64)           12352     \n",
      "                                                                 \n",
      " batch_normalization_3 (Bat  (None, 218, 64)           256       \n",
      " chNormalization)                                                \n",
      "                                                                 \n",
      " max_pooling1d_1 (MaxPoolin  (None, 109, 64)           0         \n",
      " g1D)                                                            \n",
      "                                                                 \n",
      " conv1d_4 (Conv1D)           (None, 109, 128)          24704     \n",
      "                                                                 \n",
      " batch_normalization_4 (Bat  (None, 109, 128)          512       \n",
      " chNormalization)                                                \n",
      "                                                                 \n",
      " conv1d_5 (Conv1D)           (None, 109, 128)          49280     \n",
      "                                                                 \n",
      " batch_normalization_5 (Bat  (None, 109, 128)          512       \n",
      " chNormalization)                                                \n",
      "                                                                 \n",
      " conv1d_6 (Conv1D)           (None, 109, 256)          98560     \n",
      "                                                                 \n",
      " batch_normalization_6 (Bat  (None, 109, 256)          1024      \n",
      " chNormalization)                                                \n",
      "                                                                 \n",
      " conv1d_7 (Conv1D)           (None, 109, 256)          196864    \n",
      "                                                                 \n",
      " batch_normalization_7 (Bat  (None, 109, 256)          1024      \n",
      " chNormalization)                                                \n",
      "                                                                 \n",
      " conv1d_8 (Conv1D)           (None, 109, 128)          98432     \n",
      "                                                                 \n",
      " batch_normalization_8 (Bat  (None, 109, 128)          512       \n",
      " chNormalization)                                                \n",
      "                                                                 \n",
      " conv1d_9 (Conv1D)           (None, 109, 128)          49280     \n",
      "                                                                 \n",
      " batch_normalization_9 (Bat  (None, 109, 128)          512       \n",
      " chNormalization)                                                \n",
      "                                                                 \n",
      " conv1d_10 (Conv1D)          (None, 109, 64)           24640     \n",
      "                                                                 \n",
      " batch_normalization_10 (Ba  (None, 109, 64)           256       \n",
      " tchNormalization)                                               \n",
      "                                                                 \n",
      " conv1d_11 (Conv1D)          (None, 109, 64)           12352     \n",
      "                                                                 \n",
      " batch_normalization_11 (Ba  (None, 109, 64)           256       \n",
      " tchNormalization)                                               \n",
      "                                                                 \n",
      " up_sampling1d (UpSampling1  (None, 218, 64)           0         \n",
      " D)                                                              \n",
      "                                                                 \n",
      " conv1d_12 (Conv1D)          (None, 218, 32)           6176      \n",
      "                                                                 \n",
      " batch_normalization_12 (Ba  (None, 218, 32)           128       \n",
      " tchNormalization)                                               \n",
      "                                                                 \n",
      " conv1d_13 (Conv1D)          (None, 218, 32)           3104      \n",
      "                                                                 \n",
      " batch_normalization_13 (Ba  (None, 218, 32)           128       \n",
      " tchNormalization)                                               \n",
      "                                                                 \n",
      " up_sampling1d_1 (UpSamplin  (None, 436, 32)           0         \n",
      " g1D)                                                            \n",
      "                                                                 \n",
      " conv1d_14 (Conv1D)          (None, 436, 1)            97        \n",
      "                                                                 \n",
      "=================================================================\n",
      "Total params: 590913 (2.25 MB)\n",
      "Trainable params: 588097 (2.24 MB)\n",
      "Non-trainable params: 2816 (11.00 KB)\n",
      "_________________________________________________________________\n"
     ]
    }
   ],
   "source": [
    "autoencoder.summary()"
   ]
  },
  {
   "cell_type": "code",
   "execution_count": 8,
   "metadata": {},
   "outputs": [
    {
     "data": {
      "text/plain": [
       "[PhysicalDevice(name='/physical_device:GPU:0', device_type='GPU')]"
      ]
     },
     "execution_count": 8,
     "metadata": {},
     "output_type": "execute_result"
    }
   ],
   "source": [
    "tf.config.experimental.list_physical_devices('GPU')"
   ]
  },
  {
   "cell_type": "code",
   "execution_count": 9,
   "metadata": {},
   "outputs": [
    {
     "name": "stdout",
     "output_type": "stream",
     "text": [
      "Epoch 1/100\n"
     ]
    },
    {
     "ename": "ValueError",
     "evalue": "in user code:\n\n    File \"/home/faruk/anaconda3/envs/py310/lib/python3.10/site-packages/keras/src/engine/training.py\", line 1401, in train_function  *\n        return step_function(self, iterator)\n    File \"/home/faruk/anaconda3/envs/py310/lib/python3.10/site-packages/keras/src/engine/training.py\", line 1384, in step_function  **\n        outputs = model.distribute_strategy.run(run_step, args=(data,))\n    File \"/home/faruk/anaconda3/envs/py310/lib/python3.10/site-packages/keras/src/engine/training.py\", line 1373, in run_step  **\n        outputs = model.train_step(data)\n    File \"/home/faruk/anaconda3/envs/py310/lib/python3.10/site-packages/keras/src/engine/training.py\", line 1151, in train_step\n        loss = self.compute_loss(x, y, y_pred, sample_weight)\n    File \"/home/faruk/anaconda3/envs/py310/lib/python3.10/site-packages/keras/src/engine/training.py\", line 1209, in compute_loss\n        return self.compiled_loss(\n    File \"/home/faruk/anaconda3/envs/py310/lib/python3.10/site-packages/keras/src/engine/compile_utils.py\", line 277, in __call__\n        loss_value = loss_obj(y_t, y_p, sample_weight=sw)\n    File \"/home/faruk/anaconda3/envs/py310/lib/python3.10/site-packages/keras/src/losses.py\", line 143, in __call__\n        losses = call_fn(y_true, y_pred)\n    File \"/home/faruk/anaconda3/envs/py310/lib/python3.10/site-packages/keras/src/losses.py\", line 270, in call  **\n        return ag_fn(y_true, y_pred, **self._fn_kwargs)\n    File \"/home/faruk/anaconda3/envs/py310/lib/python3.10/site-packages/keras/src/losses.py\", line 1706, in mean_squared_error\n        return backend.mean(tf.math.squared_difference(y_pred, y_true), axis=-1)\n\n    ValueError: Dimensions must be equal, but are 436 and 437 for '{{node mean_squared_error/SquaredDifference}} = SquaredDifference[T=DT_FLOAT](model/conv1d_14/Sigmoid, IteratorGetNext:1)' with input shapes: [128,436,1], [128,437,1].\n",
     "output_type": "error",
     "traceback": [
      "\u001b[0;31m---------------------------------------------------------------------------\u001b[0m",
      "\u001b[0;31mValueError\u001b[0m                                Traceback (most recent call last)",
      "Cell \u001b[0;32mIn[9], line 1\u001b[0m\n\u001b[0;32m----> 1\u001b[0m autoencoder_train \u001b[38;5;241m=\u001b[39m \u001b[43mautoencoder\u001b[49m\u001b[38;5;241;43m.\u001b[39;49m\u001b[43mfit\u001b[49m\u001b[43m(\u001b[49m\u001b[43mx\u001b[49m\u001b[43m,\u001b[49m\u001b[43m \u001b[49m\u001b[43mx\u001b[49m\u001b[43m,\u001b[49m\u001b[43m \u001b[49m\u001b[43mbatch_size\u001b[49m\u001b[38;5;241;43m=\u001b[39;49m\u001b[43mbatch_size\u001b[49m\u001b[43m,\u001b[49m\u001b[43mepochs\u001b[49m\u001b[38;5;241;43m=\u001b[39;49m\u001b[43mepochs\u001b[49m\u001b[43m,\u001b[49m\u001b[43mverbose\u001b[49m\u001b[38;5;241;43m=\u001b[39;49m\u001b[38;5;241;43m1\u001b[39;49m\u001b[43m,\u001b[49m\u001b[43mvalidation_split\u001b[49m\u001b[38;5;241;43m=\u001b[39;49m\u001b[38;5;241;43m0.2\u001b[39;49m\u001b[43m,\u001b[49m\u001b[43mshuffle\u001b[49m\u001b[38;5;241;43m=\u001b[39;49m\u001b[38;5;28;43;01mTrue\u001b[39;49;00m\u001b[43m)\u001b[49m\n",
      "File \u001b[0;32m~/anaconda3/envs/py310/lib/python3.10/site-packages/keras/src/utils/traceback_utils.py:70\u001b[0m, in \u001b[0;36mfilter_traceback.<locals>.error_handler\u001b[0;34m(*args, **kwargs)\u001b[0m\n\u001b[1;32m     67\u001b[0m     filtered_tb \u001b[38;5;241m=\u001b[39m _process_traceback_frames(e\u001b[38;5;241m.\u001b[39m__traceback__)\n\u001b[1;32m     68\u001b[0m     \u001b[38;5;66;03m# To get the full stack trace, call:\u001b[39;00m\n\u001b[1;32m     69\u001b[0m     \u001b[38;5;66;03m# `tf.debugging.disable_traceback_filtering()`\u001b[39;00m\n\u001b[0;32m---> 70\u001b[0m     \u001b[38;5;28;01mraise\u001b[39;00m e\u001b[38;5;241m.\u001b[39mwith_traceback(filtered_tb) \u001b[38;5;28;01mfrom\u001b[39;00m \u001b[38;5;28;01mNone\u001b[39;00m\n\u001b[1;32m     71\u001b[0m \u001b[38;5;28;01mfinally\u001b[39;00m:\n\u001b[1;32m     72\u001b[0m     \u001b[38;5;28;01mdel\u001b[39;00m filtered_tb\n",
      "File \u001b[0;32m/tmp/__autograph_generated_filekdynv7v_.py:15\u001b[0m, in \u001b[0;36mouter_factory.<locals>.inner_factory.<locals>.tf__train_function\u001b[0;34m(iterator)\u001b[0m\n\u001b[1;32m     13\u001b[0m \u001b[38;5;28;01mtry\u001b[39;00m:\n\u001b[1;32m     14\u001b[0m     do_return \u001b[38;5;241m=\u001b[39m \u001b[38;5;28;01mTrue\u001b[39;00m\n\u001b[0;32m---> 15\u001b[0m     retval_ \u001b[38;5;241m=\u001b[39m ag__\u001b[38;5;241m.\u001b[39mconverted_call(ag__\u001b[38;5;241m.\u001b[39mld(step_function), (ag__\u001b[38;5;241m.\u001b[39mld(\u001b[38;5;28mself\u001b[39m), ag__\u001b[38;5;241m.\u001b[39mld(iterator)), \u001b[38;5;28;01mNone\u001b[39;00m, fscope)\n\u001b[1;32m     16\u001b[0m \u001b[38;5;28;01mexcept\u001b[39;00m:\n\u001b[1;32m     17\u001b[0m     do_return \u001b[38;5;241m=\u001b[39m \u001b[38;5;28;01mFalse\u001b[39;00m\n",
      "\u001b[0;31mValueError\u001b[0m: in user code:\n\n    File \"/home/faruk/anaconda3/envs/py310/lib/python3.10/site-packages/keras/src/engine/training.py\", line 1401, in train_function  *\n        return step_function(self, iterator)\n    File \"/home/faruk/anaconda3/envs/py310/lib/python3.10/site-packages/keras/src/engine/training.py\", line 1384, in step_function  **\n        outputs = model.distribute_strategy.run(run_step, args=(data,))\n    File \"/home/faruk/anaconda3/envs/py310/lib/python3.10/site-packages/keras/src/engine/training.py\", line 1373, in run_step  **\n        outputs = model.train_step(data)\n    File \"/home/faruk/anaconda3/envs/py310/lib/python3.10/site-packages/keras/src/engine/training.py\", line 1151, in train_step\n        loss = self.compute_loss(x, y, y_pred, sample_weight)\n    File \"/home/faruk/anaconda3/envs/py310/lib/python3.10/site-packages/keras/src/engine/training.py\", line 1209, in compute_loss\n        return self.compiled_loss(\n    File \"/home/faruk/anaconda3/envs/py310/lib/python3.10/site-packages/keras/src/engine/compile_utils.py\", line 277, in __call__\n        loss_value = loss_obj(y_t, y_p, sample_weight=sw)\n    File \"/home/faruk/anaconda3/envs/py310/lib/python3.10/site-packages/keras/src/losses.py\", line 143, in __call__\n        losses = call_fn(y_true, y_pred)\n    File \"/home/faruk/anaconda3/envs/py310/lib/python3.10/site-packages/keras/src/losses.py\", line 270, in call  **\n        return ag_fn(y_true, y_pred, **self._fn_kwargs)\n    File \"/home/faruk/anaconda3/envs/py310/lib/python3.10/site-packages/keras/src/losses.py\", line 1706, in mean_squared_error\n        return backend.mean(tf.math.squared_difference(y_pred, y_true), axis=-1)\n\n    ValueError: Dimensions must be equal, but are 436 and 437 for '{{node mean_squared_error/SquaredDifference}} = SquaredDifference[T=DT_FLOAT](model/conv1d_14/Sigmoid, IteratorGetNext:1)' with input shapes: [128,436,1], [128,437,1].\n"
     ]
    }
   ],
   "source": [
    "autoencoder_train = autoencoder.fit(x, x, batch_size=batch_size,epochs=epochs,verbose=1,validation_split=0.2,shuffle=True)\n"
   ]
  },
  {
   "cell_type": "code",
   "execution_count": null,
   "metadata": {},
   "outputs": [],
   "source": [
    "# Assuming your dataset is named 'data'\n",
    "data_shape = x.shape\n",
    "\n",
    "# Get the number of samples\n",
    "num_samples = data_shape[0]\n",
    "\n",
    "# Initialize a list to store the indices of samples with a different length\n",
    "indices_with_different_length = []\n",
    "\n",
    "# Iterate through the samples\n",
    "for i in range(num_samples):\n",
    "    sample_length = data_shape[1]  # Get the length of the current sample\n",
    "    if sample_length != 437:\n",
    "        indices_with_different_length.append(i)  # Store the index of the sample if its length is different\n",
    "\n",
    "# Check if any samples have a different length\n",
    "if len(indices_with_different_length) > 0:\n",
    "    print(\"Samples with a different length found at indices:\", indices_with_different_length)\n",
    "else:\n",
    "    print(\"All samples have the same length.\")"
   ]
  }
 ],
 "metadata": {
  "kernelspec": {
   "display_name": "py310",
   "language": "python",
   "name": "python3"
  },
  "language_info": {
   "codemirror_mode": {
    "name": "ipython",
    "version": 3
   },
   "file_extension": ".py",
   "mimetype": "text/x-python",
   "name": "python",
   "nbconvert_exporter": "python",
   "pygments_lexer": "ipython3",
   "version": "3.10.13"
  }
 },
 "nbformat": 4,
 "nbformat_minor": 2
}
